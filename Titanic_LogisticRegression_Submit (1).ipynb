{
 "cells": [
  {
   "cell_type": "code",
   "execution_count": 64,
   "id": "4dd8b293",
   "metadata": {},
   "outputs": [],
   "source": [
    "import pandas as pd\n",
    "data = pd.read_csv(\"train_titanic_.csv\")\n",
    "data.drop('Cabin',inplace=True,axis=1)\n",
    "data.drop(\"Name\",inplace=True,axis=1)\n",
    "# x = data[:,0:7]\n",
    "def fun(s):\n",
    "    if s == 'S' or s == \"female\":\n",
    "        return 1\n",
    "    else:\n",
    "        return 0\n",
    "    \n",
    "data[\"new_embarked\"] = data.Embarked.apply(fun)\n",
    "data.drop(\"Embarked\",inplace=True,axis=1)\n",
    "data[\"new_Sex\"] = data.Sex.apply(fun)\n",
    "data.drop('Sex',inplace=True,axis=1)\n",
    "# data = data.dropna(inplace = True)\n",
    "data.Age.fillna(data.Age.mean(),inplace = True)\n",
    "data.drop(\"Ticket\",inplace=True,axis=1)\n",
    "data[\"new_survived\"] = data[\"Survived\"]\n",
    "data.drop(\"Survived\",inplace = True,axis=1)\n",
    "# data"
   ]
  },
  {
   "cell_type": "code",
   "execution_count": 73,
   "id": "e2d31a78",
   "metadata": {},
   "outputs": [],
   "source": [
    "import numpy as np\n",
    "# np.savetxt(\"modified_titanic.csv\",data,delimiter = \",\")\n",
    "np.savetxt(\"modified_titanic.csv\", data , delimiter = \",\")\n",
    "\n",
    "titanic_mod_data = np.loadtxt(\"modified_titanic.csv\", delimiter = \",\")\n",
    "titanic_mod_data.shape\n",
    "titanic_x = titanic_mod_data[:,0:7]\n",
    "titanic_y = titanic_mod_data[:,7]"
   ]
  },
  {
   "cell_type": "code",
   "execution_count": 77,
   "id": "fb689e6b",
   "metadata": {},
   "outputs": [
    {
     "name": "stderr",
     "output_type": "stream",
     "text": [
      "C:\\Users\\Dell\\anaconda3\\lib\\site-packages\\sklearn\\linear_model\\_logistic.py:763: ConvergenceWarning: lbfgs failed to converge (status=1):\n",
      "STOP: TOTAL NO. of ITERATIONS REACHED LIMIT.\n",
      "\n",
      "Increase the number of iterations (max_iter) or scale the data as shown in:\n",
      "    https://scikit-learn.org/stable/modules/preprocessing.html\n",
      "Please also refer to the documentation for alternative solver options:\n",
      "    https://scikit-learn.org/stable/modules/linear_model.html#logistic-regression\n",
      "  n_iter_i = _check_optimize_result(\n"
     ]
    },
    {
     "data": {
      "text/plain": [
       "LogisticRegression()"
      ]
     },
     "execution_count": 77,
     "metadata": {},
     "output_type": "execute_result"
    }
   ],
   "source": [
    "from sklearn.linear_model import LogisticRegression\n",
    "clf = LogisticRegression()\n",
    "clf.fit(titanic_x,titanic_y)"
   ]
  },
  {
   "cell_type": "code",
   "execution_count": 108,
   "id": "893aa224",
   "metadata": {},
   "outputs": [],
   "source": [
    "test_data = pd.read_csv(\"test_titanic.csv\")\n",
    "test_data[\"new_embarked\"] = test_data.Embarked.apply(fun)\n",
    "test_data[\"new_Sex\"]= test_data.Sex.apply(fun)\n",
    "test_data.drop(\"Sex\",axis=1,inplace=True)\n",
    "test_data.drop(\"Embarked\",axis=1,inplace=True)\n",
    "test_data.drop(\"Cabin\",axis=1,inplace=True)\n",
    "test_data.drop(\"Name\",axis=1,inplace=True)\n",
    "test_data.drop(\"Ticket\",axis=1,inplace=True)\n",
    "test_data.Age.fillna(test_data.Age.mean(),inplace=True)\n",
    "np.savetxt(\"titanic_test_mod.csv\",test_data,delimiter=\",\")\n",
    "# test_data\n"
   ]
  },
  {
   "cell_type": "code",
   "execution_count": 109,
   "id": "355eb52c",
   "metadata": {},
   "outputs": [],
   "source": [
    "test_mod = np.loadtxt(\"titanic_test_mod.csv\",delimiter=\",\")"
   ]
  },
  {
   "cell_type": "code",
   "execution_count": 115,
   "id": "b5dcb3ee",
   "metadata": {},
   "outputs": [],
   "source": [
    "pred = clf.predict(test_mod)\n",
    "np.savetxt(\"titanic_final_prediction.csv\",pred,delimiter=\",\",fmt=\"%f\")"
   ]
  }
 ],
 "metadata": {
  "kernelspec": {
   "display_name": "Python 3",
   "language": "python",
   "name": "python3"
  },
  "language_info": {
   "codemirror_mode": {
    "name": "ipython",
    "version": 3
   },
   "file_extension": ".py",
   "mimetype": "text/x-python",
   "name": "python",
   "nbconvert_exporter": "python",
   "pygments_lexer": "ipython3",
   "version": "3.8.8"
  }
 },
 "nbformat": 4,
 "nbformat_minor": 5
}
